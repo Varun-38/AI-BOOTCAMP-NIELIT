{
  "cells": [
    {
      "cell_type": "code",
      "execution_count": null,
      "metadata": {
        "colab": {
          "base_uri": "https://localhost:8080/"
        },
        "id": "WyppR1aYrk1d",
        "outputId": "6e2dc6d0-a40d-475c-8bc0-82cecf5a3d68"
      },
      "outputs": [
        {
          "name": "stdout",
          "output_type": "stream",
          "text": [
            "enter first number25\n",
            "enter second number26\n",
            "multipplication of the two number is 650\n"
          ]
        }
      ],
      "source": [
        "a=int(input(\"enter first number\"))\n",
        "b=int(input(\"enter second number\"))\n",
        "c=a*b\n",
        "print(\"multipplication of the two number is\",c)"
      ]
    }
  ],
  "metadata": {
    "colab": {
      "provenance": []
    },
    "kernelspec": {
      "display_name": "Python 3",
      "name": "python3"
    },
    "language_info": {
      "name": "python"
    }
  },
  "nbformat": 4,
  "nbformat_minor": 0
}
